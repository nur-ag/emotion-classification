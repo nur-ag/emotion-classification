{
 "cells": [
  {
   "cell_type": "markdown",
   "metadata": {},
   "source": [
    "# Vent Data Exploration\n",
    "\n",
    "Before diving into Emotion Detection / Classification, it's a good idea to take a look at our data to see if there may be formatting problems, noisy data, or other similar aspects that might lower data quality and make our task harder. Onwards!"
   ]
  },
  {
   "cell_type": "code",
   "execution_count": 1,
   "metadata": {},
   "outputs": [],
   "source": [
    "from pathlib import Path\n",
    "\n",
    "import numpy as np\n",
    "import pandas as pd"
   ]
  },
  {
   "cell_type": "code",
   "execution_count": 2,
   "metadata": {},
   "outputs": [],
   "source": [
    "ROOT_PATH = str(Path('.').parent.absolute().parent)\n",
    "\n",
    "vent = pd.read_parquet('{}/preprocessed/vent.parquet'.format(ROOT_PATH))"
   ]
  },
  {
   "cell_type": "code",
   "execution_count": 3,
   "metadata": {},
   "outputs": [],
   "source": [
    "def deitalize(string):\n",
    "    return string.replace('_', '')\n",
    "\n",
    "def normalize_text(string):\n",
    "    if string is None:\n",
    "        return ''\n",
    "    replaced_refs = string.replace('_USER_REFERENCE_', '[NAME]')\n",
    "    replaced_urls = replaced_refs.replace('_URL_/', '[URL]').replace('_URL_', '[URL]')\n",
    "    undo_italics = deitalize(replaced_urls)\n",
    "    return undo_italics\n"
   ]
  },
  {
   "cell_type": "code",
   "execution_count": 4,
   "metadata": {},
   "outputs": [],
   "source": [
    "vent.text = [normalize_text(text) for text in vent.text]"
   ]
  },
  {
   "cell_type": "code",
   "execution_count": 5,
   "metadata": {
    "scrolled": false
   },
   "outputs": [
    {
     "name": "stdout",
     "output_type": "stream",
     "text": [
      "/ jail\n",
      "Our penal systems are just not good. They reinforce violence and all the bad tendencies and thoughts in the convicts. \n",
      "\n",
      "These people probably had bad childhoods and experiences that made them who they are now.. Australia was a goodish idea, you could let them start a fresh, \n",
      "\n",
      "They need good communities in which they can reintegrate with, support systems and so on, not gang and racial violence and abuse.\n",
      "\n",
      "$$$$$$$$$$$$$$$$$$$$$$$\n",
      "\n",
      "When I had those mystical superhuman experiences a year ago while I was high and manic, it wasnt the drugs, I realise now it was hypnosis.\n",
      "\n",
      "I had mistakenly hypnotised myself by watching videos on repeat and staring at patterns etc, so now that I know that, I can do all of the stuff back then without any drugs. \n",
      "Like superhuman strength and pain resistance. \n",
      "Memory, confidence, grace all of that and more.\n",
      "Self hypnosis works.\n",
      "\n",
      "$$$$$$$$$$$$$$$$$$$$$$$\n",
      "\n",
      "Okay I'm going to go for my daily dose of self hypnosis. \n",
      "Bomb af stuff, it will make you feel a decade younger, stronger, confident and just all around powerful. \n",
      "\n",
      "Here's the video I will watch.\n",
      "[URL]\n",
      "\n",
      "$$$$$$$$$$$$$$$$$$$$$$$\n",
      "\n",
      "NSFW \n",
      "Nudity meant \n",
      "Don’t worry it’s kinda funny, just something I that happened during class \n",
      "\n",
      "\n",
      "\n",
      "\n",
      "\n",
      "\n",
      "LMAO SO UH my friend came into the library today during our last hour to edit his senior video and asked me and my friends if we knew how to edit so I was like yeah we do and I started helping him, he connected his phone to the computer in the library so he could upload his videos, we started watching them pop up on the media box and suddenly a fucking pic of HiS DICK IN HIS GIRLFRIENDS CROTCH POPS UP AND IM LIKE “WHOAAAA” AND TURNED AWAY AMD HES JUST LIKE “uh, oh uh sorry please don’t Look at that” \n",
      "\n",
      "I’m mad I didn’t want to see his dick or his girlfriends crotch lmao \n",
      "\n",
      "$$$$$$$$$$$$$$$$$$$$$$$\n",
      "\n",
      "idk \n",
      "\n",
      "$$$$$$$$$$$$$$$$$$$$$$$\n",
      "\n",
      "pasta and breadstick yes pls\n",
      "\n",
      "$$$$$$$$$$$$$$$$$$$$$$$\n",
      "\n",
      "Are u ready lil wolf pups\n",
      "\n",
      "$$$$$$$$$$$$$$$$$$$$$$$\n",
      "\n",
      "Someone pls send me the strongest positive energy u can muster bc idk how I’m gonna survive getting misgendered for three weeks straight \n",
      "\n",
      "$$$$$$$$$$$$$$$$$$$$$$$\n",
      "\n",
      "Like tbh this app feels very boring now \n",
      "\n",
      "$$$$$$$$$$$$$$$$$$$$$$$\n",
      "\n",
      "repeat after me: “currency flows to me, effortlessly!”\n",
      "\n",
      "emoji spell for money blessings & prosperity \n",
      "(2019: year of the pig 🐷)\n",
      "\n",
      "🍀💰💚 🍀💰💚 🍀💰💚 🍀💰💚 🍀💰💚\n",
      "\n",
      "[lit] to purify the heart & root chakra\n",
      "[🕯] to enchant \n"
     ]
    }
   ],
   "source": [
    "print('\\n\\n$$$$$$$$$$$$$$$$$$$$$$$\\n\\n'.join(vent.text[-10:].tolist()))"
   ]
  },
  {
   "cell_type": "markdown",
   "metadata": {},
   "source": [
    "# Vent Length Analysis\n",
    "\n",
    "Another important aspect is to choose an appropriate length for the input sequences. Let's take a look at the data."
   ]
  },
  {
   "cell_type": "code",
   "execution_count": 6,
   "metadata": {},
   "outputs": [],
   "source": [
    "import string\n",
    "\n",
    "SEPARATOR_CHAR_SET = set(string.whitespace + string.punctuation)\n",
    "\n",
    "def count_tokens(string):\n",
    "    previous_sep = False\n",
    "    separator_count = 0\n",
    "    for char in string:\n",
    "        if char in SEPARATOR_CHAR_SET:\n",
    "            if previous_sep:\n",
    "                continue\n",
    "            previous_sep = True\n",
    "            separator_count += 1\n",
    "        else:\n",
    "            previous_sep = False\n",
    "    # Do not count trailing separator\n",
    "    if previous_sep:\n",
    "        separator_count -= 1\n",
    "    return separator_count + 1\n"
   ]
  },
  {
   "cell_type": "code",
   "execution_count": 7,
   "metadata": {},
   "outputs": [],
   "source": [
    "vent_token_counts = [count_tokens(string) for string in vent.text]"
   ]
  },
  {
   "cell_type": "code",
   "execution_count": 8,
   "metadata": {},
   "outputs": [
    {
     "data": {
      "text/plain": [
       "32883737"
      ]
     },
     "execution_count": 8,
     "metadata": {},
     "output_type": "execute_result"
    }
   ],
   "source": [
    "len(vent_token_counts)"
   ]
  },
  {
   "cell_type": "code",
   "execution_count": 10,
   "metadata": {},
   "outputs": [
    {
     "data": {
      "text/plain": [
       "32.274320373015996"
      ]
     },
     "execution_count": 10,
     "metadata": {},
     "output_type": "execute_result"
    }
   ],
   "source": [
    "np.mean(vent_token_counts)"
   ]
  },
  {
   "cell_type": "code",
   "execution_count": 11,
   "metadata": {},
   "outputs": [
    {
     "data": {
      "text/plain": [
       "array([ 17.,  32.,  60.,  97., 299.])"
      ]
     },
     "execution_count": 11,
     "metadata": {},
     "output_type": "execute_result"
    }
   ],
   "source": [
    "np.percentile(vent_token_counts, [50, 75, 90, 95, 99])"
   ]
  },
  {
   "cell_type": "code",
   "execution_count": 12,
   "metadata": {},
   "outputs": [
    {
     "data": {
      "text/plain": [
       "77.22023538615214"
      ]
     },
     "execution_count": 12,
     "metadata": {},
     "output_type": "execute_result"
    }
   ],
   "source": [
    "np.std(vent_token_counts)"
   ]
  },
  {
   "cell_type": "code",
   "execution_count": 13,
   "metadata": {},
   "outputs": [
    {
     "data": {
      "text/plain": [
       "184813"
      ]
     },
     "execution_count": 13,
     "metadata": {},
     "output_type": "execute_result"
    }
   ],
   "source": [
    "np.max(vent_token_counts)"
   ]
  },
  {
   "cell_type": "code",
   "execution_count": 26,
   "metadata": {
    "scrolled": false
   },
   "outputs": [
    {
     "data": {
      "text/plain": [
       "(array([6.23888e+05, 3.92801e+05, 6.72115e+05, ..., 0.00000e+00,\n",
       "        2.00000e+00, 1.00000e+00]),\n",
       " array([1.0000000e+00, 1.9988000e+00, 2.9976000e+00, ..., 2.4960024e+03,\n",
       "        2.4970012e+03, 2.4980000e+03]),\n",
       " <a list of 2500 Patch objects>)"
      ]
     },
     "execution_count": 26,
     "metadata": {},
     "output_type": "execute_result"
    },
    {
     "data": {
      "image/png": "[encoded data removed]",
      "text/plain": [
       "<matplotlib.figure.Figure at 0x80a8c4210>"
      ]
     },
     "metadata": {
      "needs_background": "light"
     },
     "output_type": "display_data"
    }
   ],
   "source": [
    "import matplotlib.pyplot as plt\n",
    "\n",
    "token_bound = 2500 # np.mean(vent_token_counts) + 5 * np.std(vent_token_counts) + 500\n",
    "\n",
    "plt.yscale('log', nonposy='clip')\n",
    "plt.hist([x for x in vent_token_counts if x < token_bound], bins=token_bound)"
   ]
  }
 ],
 "metadata": {
  "kernelspec": {
   "display_name": "Python 3",
   "language": "python",
   "name": "python3"
  },
  "language_info": {
   "codemirror_mode": {
    "name": "ipython",
    "version": 3
   },
   "file_extension": ".py",
   "mimetype": "text/x-python",
   "name": "python",
   "nbconvert_exporter": "python",
   "pygments_lexer": "ipython3",
   "version": "3.7.7"
  }
 },
 "nbformat": 4,
 "nbformat_minor": 2
}
