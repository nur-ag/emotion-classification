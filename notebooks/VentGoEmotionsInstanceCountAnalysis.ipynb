{
 "cells": [
  {
   "cell_type": "markdown",
   "metadata": {},
   "source": [
    "# GoEmotions Instance Count Analysis\n",
    "Count the avg. instances per class in GoEmotions to build a comparable dataset"
   ]
  },
  {
   "cell_type": "code",
   "execution_count": 3,
   "metadata": {},
   "outputs": [],
   "source": [
    "import pandas as pd\n",
    "\n",
    "vent = pd.read_parquet('../preprocessed/vent-robust.parquet')\n",
    "goemotions = pd.read_parquet('../preprocessed/GoEmotions.parquet')"
   ]
  },
  {
   "cell_type": "code",
   "execution_count": 25,
   "metadata": {},
   "outputs": [],
   "source": [
    "vents_per_emotion = vent.groupby('emotions_label').size().mean()\n",
    "vent_emotions = len(vent.emotions_label.unique())\n",
    "\n",
    "exploded = goemotions.emotions.explode().to_frame()\n",
    "comments_per_emotion = exploded.groupby('emotions').size().mean()\n",
    "goem_emotions = len(exploded.emotions.unique())"
   ]
  },
  {
   "cell_type": "code",
   "execution_count": 31,
   "metadata": {},
   "outputs": [
    {
     "name": "stdout",
     "output_type": "stream",
     "text": [
      "There are 28 emotions in GoEmotions with 2279.0 comments on average.\n",
      "The equivalent dataset needs 200552.0 vents, or 2.06% of Vent.\n"
     ]
    }
   ],
   "source": [
    "equivalent_vents = comments_per_emotion * vent_emotions\n",
    "vent_sample_size = equivalent_vents / len(vent)\n",
    "\n",
    "print(f'There are {goem_emotions} emotions in GoEmotions with {comments_per_emotion} comments on average.')\n",
    "print(f'The equivalent dataset needs {equivalent_vents} vents, or {100 * vent_sample_size:.2f}% of Vent.')"
   ]
  },
  {
   "cell_type": "code",
   "execution_count": 40,
   "metadata": {},
   "outputs": [],
   "source": [
    "import sys\n",
    "sys.path.append('../src')\n",
    "\n",
    "from utils.split import sorted_splits\n",
    "\n",
    "splits = sorted_splits(vent.sample(frac=vent_sample_size), 'created_at', [0.8, 0.1, 0.1])\n",
    "for df, split_name in zip(splits, ['train', 'valid', 'test']):\n",
    "    df['split'] = split_name"
   ]
  },
  {
   "cell_type": "code",
   "execution_count": 55,
   "metadata": {},
   "outputs": [
    {
     "name": "stdout",
     "output_type": "stream",
     "text": [
      "2016-07-01 00:02:48.706000 - 2018-03-16 03:11:24.346000 \n",
      " 2018-03-16 03:36:46.503000 - 2018-07-20 21:38:48.822000 \n",
      " 2018-07-20 21:40:20.554000 - 2018-12-14 05:47:01.042000\n"
     ]
    }
   ],
   "source": [
    "print(splits[0].created_at.min(), '-',\n",
    "      splits[0].created_at.max(), '\\n',\n",
    "      splits[1].created_at.min(), '-',\n",
    "      splits[1].created_at.max(), '\\n',\n",
    "      splits[2].created_at.min(), '-',\n",
    "      splits[2].created_at.max())"
   ]
  }
 ],
 "metadata": {
  "kernelspec": {
   "display_name": "Python 3",
   "language": "python",
   "name": "python3"
  },
  "language_info": {
   "codemirror_mode": {
    "name": "ipython",
    "version": 3
   },
   "file_extension": ".py",
   "mimetype": "text/x-python",
   "name": "python",
   "nbconvert_exporter": "python",
   "pygments_lexer": "ipython3",
   "version": "3.8.6"
  }
 },
 "nbformat": 4,
 "nbformat_minor": 4
}
